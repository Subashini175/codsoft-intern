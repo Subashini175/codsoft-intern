{
  "nbformat": 4,
  "nbformat_minor": 0,
  "metadata": {
    "colab": {
      "provenance": [],
      "authorship_tag": "ABX9TyNRd3tOlEaKNCdKMDN1Cl4M",
      "include_colab_link": true
    },
    "kernelspec": {
      "name": "python3",
      "display_name": "Python 3"
    },
    "language_info": {
      "name": "python"
    }
  },
  "cells": [
    {
      "cell_type": "markdown",
      "metadata": {
        "id": "view-in-github",
        "colab_type": "text"
      },
      "source": [
        "<a href=\"https://colab.research.google.com/github/Subashini175/dv-project/blob/main/task_1.ipynb\" target=\"_parent\"><img src=\"https://colab.research.google.com/assets/colab-badge.svg\" alt=\"Open In Colab\"/></a>"
      ]
    },
    {
      "cell_type": "markdown",
      "source": [
        "TASK 1\n",
        "\n",
        "Build a simple chatbot that responds to user inputs based on\n",
        "predefined rules. Use if-else statements or pattern matching\n",
        "techniques to identify user queries and provide appropriate\n",
        "responses. This will give you a basic understanding of natural\n",
        "language processing and conversation flow\n",
        "#CHATBOT WITH RULE-BASED RESPONSES\n"
      ],
      "metadata": {
        "id": "H_M7Y22Qlofv"
      }
    },
    {
      "cell_type": "code",
      "source": [
        "import re\n",
        "\n",
        "def chatbot_response(user_input):\n",
        "    user_input = user_input.lower()\n",
        "    if re.search(r'\\b(hi|hello|hey)\\b', user_input):\n",
        "        return \"Hello! How can I assist you today?\"\n",
        "    elif re.search(r'\\b(how are you|how\\'s it going)\\b', user_input):\n",
        "        return \"I'm just a chatbot, but thank you for asking!\"\n",
        "    elif re.search(r'\\b(weather|forecast)\\b', user_input):\n",
        "        return \"I'm sorry, I don't have access to weather information.\"\n",
        "    elif re.search(r'\\b(goodbye|bye)\\b', user_input):\n",
        "        return \"Goodbye! Have a great day!\"\n",
        "    else:\n",
        "        return \"I'm sorry, I didn't understand that.\"\n",
        "\n",
        "def main():\n",
        "    print(\"Welcome to the Simple Chatbot!\")\n",
        "    print(\"You can start chatting. Type 'exit' to end the conversation.\")\n",
        "\n",
        "    while True:\n",
        "        user_input = input(\"You: \")\n",
        "        if user_input.lower() == 'exit':\n",
        "            print(\"Chatbot: Goodbye! Have a great day!\")\n",
        "            break\n",
        "        response = chatbot_response(user_input)\n",
        "        print(\"Chatbot:\", response)\n",
        "\n",
        "if __name__ == \"__main__\":\n",
        "    main()\n",
        "\n"
      ],
      "metadata": {
        "colab": {
          "base_uri": "https://localhost:8080/"
        },
        "id": "Wjbh7-aaduE7",
        "outputId": "2b0e5469-5f87-4893-b58e-2390d4fb9d96"
      },
      "execution_count": null,
      "outputs": [
        {
          "output_type": "stream",
          "name": "stdout",
          "text": [
            "Welcome to the Simple Chatbot!\n",
            "You can start chatting. Type 'exit' to end the conversation.\n",
            "You: exit\n",
            "Chatbot: Goodbye! Have a great day!\n"
          ]
        }
      ]
    },
    {
      "cell_type": "code",
      "source": [
        "import re\n",
        "\n",
        "class RuleBasedChatbot:\n",
        "    def __init__(self):\n",
        "        self.patterns = {\n",
        "            r'\\b(hi|hello|hey)\\b': \"Hello! How can I assist you today?\",\n",
        "            r'\\b(how are you|how\\'s it going)\\b': \"I'm just a chatbot, but thank you for asking!\",\n",
        "            r'\\b(weather|forecast)\\b': \"I'm sorry, I don't have access to weather information.\",\n",
        "            r'\\b(goodbye|bye)\\b': \"Goodbye! Have a great day!\"\n",
        "        }\n",
        "\n",
        "    def chatbot_response(self, user_input):\n",
        "        user_input = user_input.lower()\n",
        "        for pattern, response in self.patterns.items():\n",
        "            if re.search(pattern, user_input):\n",
        "                return response\n",
        "        return \"I'm sorry, I didn't understand that.\"\n",
        "\n",
        "    def start_chat(self):\n",
        "        print(\"Welcome to the Simple Chatbot!\")\n",
        "        print(\"You can start chatting. Type 'exit' to end the conversation.\")\n",
        "\n",
        "        while True:\n",
        "            user_input = input(\"You: \")\n",
        "            if user_input.lower() == 'exit':\n",
        "                print(\"Chatbot: Goodbye! Have a great day!\")\n",
        "                break\n",
        "            response = self.chatbot_response(user_input)\n",
        "            print(\"Chatbot:\", response)\n",
        "\n",
        "if __name__ == \"__main__\":\n",
        "    chatbot = RuleBasedChatbot()\n",
        "    chatbot.start_chat()\n"
      ],
      "metadata": {
        "colab": {
          "base_uri": "https://localhost:8080/"
        },
        "id": "NtUcyoWwfSod",
        "outputId": "d990dc73-236e-4114-dd5e-c44135e793fd"
      },
      "execution_count": null,
      "outputs": [
        {
          "output_type": "stream",
          "name": "stdout",
          "text": [
            "Welcome to the Simple Chatbot!\n",
            "You can start chatting. Type 'exit' to end the conversation.\n",
            "You: good bye\n",
            "Chatbot: Goodbye! Have a great day!\n",
            "You: exist\n",
            "Chatbot: I'm sorry, I didn't understand that.\n",
            "You: exit\n",
            "Chatbot: Goodbye! Have a great day!\n"
          ]
        }
      ]
    },
    {
      "cell_type": "code",
      "source": [
        "import re\n",
        "\n",
        "def chatbot_response(user_input):\n",
        "    user_input = user_input.lower()\n",
        "    if re.search(r'\\b(hi|hello|hey)\\b', user_input):\n",
        "        return \"Hello! How can I assist you today?\"\n",
        "    elif re.search(r'\\b(how are you|how\\'s it going)\\b', user_input):\n",
        "        return \"I'm just a chatbot, but thank you for asking!\"\n",
        "    elif re.search(r'\\b(weather|forecast)\\b', user_input):\n",
        "        return \"I'm sorry, I don't have access to weather information.\"\n",
        "    elif re.search(r'\\b(goodbye|bye)\\b', user_input):\n",
        "        return \"Goodbye! Have a great day!\"\n",
        "    elif re.search(r'\\b(who are you|what is your name)\\b', user_input):\n",
        "        return \"I'm a chatbot programmed to assist you!\"\n",
        "    elif re.search(r'\\b(what can you do)\\b', user_input):\n",
        "        return \"I can provide information, answer questions, or just chat with you!\"\n",
        "    elif re.search(r'\\b(thank you|thanks)\\b', user_input):\n",
        "        return \"You're welcome! Feel free to ask anything else.\"\n",
        "    elif re.search(r'\\b(how old are you)\\b', user_input):\n",
        "        return \"I don't have an age, as I'm just a program!\"\n",
        "    elif re.search(r'\\b(sorry|apologies)\\b', user_input):\n",
        "        return \"No problem! Let me know how I can help.\"\n",
        "    else:\n",
        "        return \"I'm sorry, I didn't understand that.\"\n",
        "\n",
        "def main():\n",
        "    print(\"Welcome to the Simple Chatbot!\")\n",
        "    print(\"You can start chatting. Type 'exit' to end the conversation.\")\n",
        "\n",
        "    while True:\n",
        "        user_input = input(\"You: \")\n",
        "        if user_input.lower() == 'exit':\n",
        "            print(\"Chatbot: Goodbye! Have a great day!\")\n",
        "            break\n",
        "        response = chatbot_response(user_input)\n",
        "        print(\"Chatbot:\", response)\n",
        "\n",
        "if __name__ == \"__main__\":\n",
        "    main()\n"
      ],
      "metadata": {
        "colab": {
          "base_uri": "https://localhost:8080/"
        },
        "id": "pwRFFgHQkiGQ",
        "outputId": "2624a2e6-53d1-408a-df65-b3b37515ddad"
      },
      "execution_count": null,
      "outputs": [
        {
          "output_type": "stream",
          "name": "stdout",
          "text": [
            "Welcome to the Simple Chatbot!\n",
            "You can start chatting. Type 'exit' to end the conversation.\n",
            "You: hey\n",
            "Chatbot: Hello! How can I assist you today?\n",
            "You: how are you \n",
            "Chatbot: I'm just a chatbot, but thank you for asking!\n",
            "You: weather\n",
            "Chatbot: I'm sorry, I don't have access to weather information.\n",
            "You: who are you\n",
            "Chatbot: I'm a chatbot programmed to assist you!\n",
            "You: what's your name\n",
            "Chatbot: I'm sorry, I didn't understand that.\n",
            "You: what is your name\n",
            "Chatbot: I'm a chatbot programmed to assist you!\n",
            "You: good bye \n",
            "Chatbot: Goodbye! Have a great day!\n",
            "You: bye\n",
            "Chatbot: Goodbye! Have a great day!\n",
            "You: what are you doing \n",
            "Chatbot: I'm sorry, I didn't understand that.\n",
            "You: exit\n",
            "Chatbot: Goodbye! Have a great day!\n"
          ]
        }
      ]
    }
  ]
}